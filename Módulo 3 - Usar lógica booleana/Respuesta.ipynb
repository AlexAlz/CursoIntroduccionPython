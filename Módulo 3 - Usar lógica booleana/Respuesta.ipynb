{
 "cells": [
  {
   "cell_type": "code",
   "execution_count": 13,
   "metadata": {},
   "outputs": [
    {
     "name": "stdout",
     "output_type": "stream",
     "text": [
      "Un objeto extraño se aproxima rapidamente\n"
     ]
    }
   ],
   "source": [
    "from string import printable\n",
    "\n",
    "VelAsteroid= 49\n",
    "if VelAsteroid >25:\n",
    "    print(\"Un objeto extraño se aproxima rapidamente\")\n",
    "else:\n",
    "    print(\"Todo en orden\")"
   ]
  },
  {
   "cell_type": "code",
   "execution_count": 14,
   "metadata": {},
   "outputs": [
    {
     "name": "stdout",
     "output_type": "stream",
     "text": [
      "Todo normal\n"
     ]
    }
   ],
   "source": [
    "VelAsteroid = 19\n",
    "if VelAsteroid >20:\n",
    "    print(\"¡Hay un asteroide que se dirige a la tierra ahora!\")\n",
    "elif VelAsteroid == 20:\n",
    "    print(\"¡Hay un asteroide que se dirige a la tierra ahora!\")\n",
    "else:\n",
    "    print(\"Todo normal\")"
   ]
  },
  {
   "cell_type": "code",
   "execution_count": 15,
   "metadata": {},
   "outputs": [
    {
     "name": "stdout",
     "output_type": "stream",
     "text": [
      "Look up! ¡Hay una luz mágica en el cielo!\n"
     ]
    }
   ],
   "source": [
    "VelAsteroid = 25\n",
    "sizeAsteroid = 40\n",
    "if VelAsteroid > 25 and sizeAsteroid > 25:\n",
    "    print(\"Amenaza inminente\")\n",
    "elif VelAsteroid >= 20:\n",
    "    print(\"¡Hay un asteroide que se dirige a la tierra ahora!\")\n",
    "elif sizeAsteroid< 25:\n",
    "    print(\"Todo normal\")\n",
    "else:\n",
    "    print(\"Todo normal\")"
   ]
  }
 ],
 "metadata": {
  "interpreter": {
   "hash": "248acb109adfed8dab10696a9c79d3fa365dc84474e271a49a749f61bf93e09c"
  },
  "kernelspec": {
   "display_name": "Python 3.10.2 ('env': venv)",
   "language": "python",
   "name": "python3"
  },
  "language_info": {
   "codemirror_mode": {
    "name": "ipython",
    "version": 3
   },
   "file_extension": ".py",
   "mimetype": "text/x-python",
   "name": "python",
   "nbconvert_exporter": "python",
   "pygments_lexer": "ipython3",
   "version": "3.10.2"
  },
  "orig_nbformat": 4
 },
 "nbformat": 4,
 "nbformat_minor": 2
}
