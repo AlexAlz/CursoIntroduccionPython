{
 "cells": [
  {
   "cell_type": "code",
   "execution_count": null,
   "metadata": {},
   "outputs": [],
   "source": [
    "tierra = 149597870\n",
    "jupiter = 778547200\n",
    "\n",
    "kilometros = jupiter - tierra\n",
    "print(kilometros)\n",
    "\n",
    "millas = kilometros * 0.621\n",
    "print(millas)"
   ]
  },
  {
   "cell_type": "code",
   "execution_count": null,
   "metadata": {},
   "outputs": [],
   "source": [
    "pl1 = int(input(\"Digite distancia 1\"))\n",
    "pl2 = int(input(\"Digite distancia 2\"))\n",
    "\n",
    "kilometros = pl2 - pl1\n",
    "print(kilometros)\n",
    "\n",
    "millas = kilometros * 0.621\n",
    "print(millas)"
   ]
  }
 ],
 "metadata": {
  "interpreter": {
   "hash": "248acb109adfed8dab10696a9c79d3fa365dc84474e271a49a749f61bf93e09c"
  },
  "kernelspec": {
   "display_name": "Python 3.10.2 ('env': venv)",
   "language": "python",
   "name": "python3"
  },
  "language_info": {
   "codemirror_mode": {
    "name": "ipython",
    "version": 3
   },
   "file_extension": ".py",
   "mimetype": "text/x-python",
   "name": "python",
   "nbconvert_exporter": "python",
   "pygments_lexer": "ipython3",
   "version": "3.10.2"
  },
  "orig_nbformat": 4
 },
 "nbformat": 4,
 "nbformat_minor": 2
}
